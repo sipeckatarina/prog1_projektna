{
 "cells": [
  {
   "cell_type": "markdown",
   "metadata": {},
   "source": [
    "# Romani v knjigarni Felix"
   ]
  },
  {
   "cell_type": "markdown",
   "metadata": {},
   "source": [
    "Analizirali bomo romane, ki so na voljo v knjigarni Felix.\n",
    "\n",
    "Najprej si bomo ogledali razporeditev romanov glede na leto izdaje. V drugem delu bomo raziskali povazave med vezavo, ceno in številom strani, v tretjem delu pa se bomo posvetili avtorjem in prevajalcem."
   ]
  },
  {
   "cell_type": "code",
   "execution_count": 1,
   "metadata": {},
   "outputs": [],
   "source": [
    "import pandas as pd\n",
    "import matplotlib\n",
    "\n",
    "# grafi se izrisujejo v notebooku\n",
    "%matplotlib inline\n",
    "\n",
    "romani = pd.read_csv('csv_podatki/romani.csv')\n",
    "\n",
    "pd.options.display.max_rows = 10\n",
    "pd.options.display.max_columns = 10"
   ]
  },
  {
   "cell_type": "code",
   "execution_count": 2,
   "metadata": {},
   "outputs": [
    {
     "data": {
      "text/html": [
       "<div>\n",
       "<style scoped>\n",
       "    .dataframe tbody tr th:only-of-type {\n",
       "        vertical-align: middle;\n",
       "    }\n",
       "\n",
       "    .dataframe tbody tr th {\n",
       "        vertical-align: top;\n",
       "    }\n",
       "\n",
       "    .dataframe thead th {\n",
       "        text-align: right;\n",
       "    }\n",
       "</style>\n",
       "<table border=\"1\" class=\"dataframe\">\n",
       "  <thead>\n",
       "    <tr style=\"text-align: right;\">\n",
       "      <th></th>\n",
       "      <th>naslov</th>\n",
       "      <th>avtor</th>\n",
       "      <th>dimenzije</th>\n",
       "      <th>prevajalec</th>\n",
       "      <th>vezava</th>\n",
       "      <th>zalozba</th>\n",
       "    </tr>\n",
       "  </thead>\n",
       "  <tbody>\n",
       "    <tr>\n",
       "      <th>0</th>\n",
       "      <td>Petdeset odtenkov svobode (Žepna knjiga)</td>\n",
       "      <td>E L James</td>\n",
       "      <td>13 x 19 cm</td>\n",
       "      <td>Alenka Perger</td>\n",
       "      <td>žepna</td>\n",
       "      <td>Učila International, d.o.o.</td>\n",
       "    </tr>\n",
       "    <tr>\n",
       "      <th>1</th>\n",
       "      <td>&amp;Scaron;KOT, KI ME JE RE&amp;Scaron;IL (Trda vezava)</td>\n",
       "      <td>Hannah Howell</td>\n",
       "      <td>130 x 195 x 27</td>\n",
       "      <td>Katja Bizjak</td>\n",
       "      <td>trda</td>\n",
       "      <td>Učila International, d.o.o.</td>\n",
       "    </tr>\n",
       "    <tr>\n",
       "      <th>2</th>\n",
       "      <td>Petdeset odtenkov - komplet Žepnih knjig</td>\n",
       "      <td>E L James</td>\n",
       "      <td>13 x 19 cm</td>\n",
       "      <td>neznano</td>\n",
       "      <td>mehka</td>\n",
       "      <td>Učila International, d.o.o.</td>\n",
       "    </tr>\n",
       "    <tr>\n",
       "      <th>3</th>\n",
       "      <td>TEMAČNI MOŽ (Žepna knjiga)</td>\n",
       "      <td>Jens Henrik Jensen</td>\n",
       "      <td>125 x 190 x 31</td>\n",
       "      <td>Mateja Malnar &amp;Scaron;tembal</td>\n",
       "      <td>mehka</td>\n",
       "      <td>Učila International, d.o.o.</td>\n",
       "    </tr>\n",
       "    <tr>\n",
       "      <th>4</th>\n",
       "      <td>TEMAČNI MOŽ (Trda vezava)</td>\n",
       "      <td>Jens Henrik Jensen</td>\n",
       "      <td>130 x 195 x 35</td>\n",
       "      <td>Mateja Malnar &amp;Scaron;tembal</td>\n",
       "      <td>trda</td>\n",
       "      <td>Učila International, d.o.o.</td>\n",
       "    </tr>\n",
       "    <tr>\n",
       "      <th>...</th>\n",
       "      <td>...</td>\n",
       "      <td>...</td>\n",
       "      <td>...</td>\n",
       "      <td>...</td>\n",
       "      <td>...</td>\n",
       "      <td>...</td>\n",
       "    </tr>\n",
       "    <tr>\n",
       "      <th>1019</th>\n",
       "      <td>Afganistanec (Trda vezava)</td>\n",
       "      <td>Frederick Forsyth</td>\n",
       "      <td>13 x 19,5 cm</td>\n",
       "      <td>Samo Ku&amp;scaron;čer</td>\n",
       "      <td>trda</td>\n",
       "      <td>Učila International d.o.o.</td>\n",
       "    </tr>\n",
       "    <tr>\n",
       "      <th>1020</th>\n",
       "      <td>Solze biserne (Žepna knjiga)</td>\n",
       "      <td>Tasha Alexander</td>\n",
       "      <td>13 x 19 cm</td>\n",
       "      <td>Suzana Pečnik</td>\n",
       "      <td>broširana</td>\n",
       "      <td>neznano</td>\n",
       "    </tr>\n",
       "    <tr>\n",
       "      <th>1021</th>\n",
       "      <td>Varno zavetje (trda vezava)</td>\n",
       "      <td>Nicholas Sparks</td>\n",
       "      <td>13 x 19,5 cm</td>\n",
       "      <td>Nata&amp;scaron;a Grom</td>\n",
       "      <td>trda</td>\n",
       "      <td>Učila International d.o.o.</td>\n",
       "    </tr>\n",
       "    <tr>\n",
       "      <th>1022</th>\n",
       "      <td>Ubijaj ali umri (Žepna knjiga)</td>\n",
       "      <td>Urban Waite</td>\n",
       "      <td>12,5 x 19 cm</td>\n",
       "      <td>Jedrt Maležič</td>\n",
       "      <td>žepna</td>\n",
       "      <td>Učila International d.o.o.</td>\n",
       "    </tr>\n",
       "    <tr>\n",
       "      <th>1023</th>\n",
       "      <td>Vsi moji biv&amp;scaron;i (Žepna knjiga)</td>\n",
       "      <td>Jenny Colgan</td>\n",
       "      <td>13 x 19 cm</td>\n",
       "      <td>Suzana Jovanovič</td>\n",
       "      <td>broširana</td>\n",
       "      <td>Učila International</td>\n",
       "    </tr>\n",
       "  </tbody>\n",
       "</table>\n",
       "<p>1024 rows × 6 columns</p>\n",
       "</div>"
      ],
      "text/plain": [
       "                                                naslov               avtor  \\\n",
       "0             Petdeset odtenkov svobode (Žepna knjiga)           E L James   \n",
       "1     &Scaron;KOT, KI ME JE RE&Scaron;IL (Trda vezava)       Hannah Howell   \n",
       "2             Petdeset odtenkov - komplet Žepnih knjig           E L James   \n",
       "3                           TEMAČNI MOŽ (Žepna knjiga)  Jens Henrik Jensen   \n",
       "4                            TEMAČNI MOŽ (Trda vezava)  Jens Henrik Jensen   \n",
       "...                                                ...                 ...   \n",
       "1019                        Afganistanec (Trda vezava)   Frederick Forsyth   \n",
       "1020                      Solze biserne (Žepna knjiga)     Tasha Alexander   \n",
       "1021                       Varno zavetje (trda vezava)     Nicholas Sparks   \n",
       "1022                    Ubijaj ali umri (Žepna knjiga)         Urban Waite   \n",
       "1023              Vsi moji biv&scaron;i (Žepna knjiga)        Jenny Colgan   \n",
       "\n",
       "           dimenzije                    prevajalec     vezava  \\\n",
       "0         13 x 19 cm                 Alenka Perger      žepna   \n",
       "1     130 x 195 x 27                  Katja Bizjak       trda   \n",
       "2         13 x 19 cm                       neznano      mehka   \n",
       "3     125 x 190 x 31  Mateja Malnar &Scaron;tembal      mehka   \n",
       "4     130 x 195 x 35  Mateja Malnar &Scaron;tembal       trda   \n",
       "...              ...                           ...        ...   \n",
       "1019    13 x 19,5 cm            Samo Ku&scaron;čer       trda   \n",
       "1020      13 x 19 cm                 Suzana Pečnik  broširana   \n",
       "1021    13 x 19,5 cm            Nata&scaron;a Grom       trda   \n",
       "1022    12,5 x 19 cm                 Jedrt Maležič      žepna   \n",
       "1023      13 x 19 cm              Suzana Jovanovič  broširana   \n",
       "\n",
       "                          zalozba  \n",
       "0     Učila International, d.o.o.  \n",
       "1     Učila International, d.o.o.  \n",
       "2     Učila International, d.o.o.  \n",
       "3     Učila International, d.o.o.  \n",
       "4     Učila International, d.o.o.  \n",
       "...                           ...  \n",
       "1019   Učila International d.o.o.  \n",
       "1020                      neznano  \n",
       "1021   Učila International d.o.o.  \n",
       "1022   Učila International d.o.o.  \n",
       "1023          Učila International  \n",
       "\n",
       "[1024 rows x 6 columns]"
      ]
     },
     "execution_count": 2,
     "metadata": {},
     "output_type": "execute_result"
    }
   ],
   "source": [
    "romani[['naslov','avtor','dimenzije','prevajalec','vezava','zalozba']] = romani[['naslov','avtor','dimenzije','prevajalec','vezava','zalozba']].replace('0','neznano')\n",
    "romani[['naslov','avtor','dimenzije','prevajalec','vezava','zalozba']].replace('0','neznano')"
   ]
  },
  {
   "cell_type": "markdown",
   "metadata": {},
   "source": [
    "Opomba: Znak \"0\" označuje prazna mesta, torej manjkajoče podatke za posamezne romane."
   ]
  },
  {
   "cell_type": "markdown",
   "metadata": {},
   "source": [
    "## Romani glede na leto izdaje"
   ]
  },
  {
   "cell_type": "code",
   "execution_count": 3,
   "metadata": {},
   "outputs": [],
   "source": [
    "romani_po_letih = romani[romani.leto_izdaje >= 1000].groupby('leto_izdaje')"
   ]
  },
  {
   "cell_type": "code",
   "execution_count": 4,
   "metadata": {
    "scrolled": false
   },
   "outputs": [
    {
     "data": {
      "text/plain": [
       "<matplotlib.axes._subplots.AxesSubplot at 0x1ccd759d828>"
      ]
     },
     "execution_count": 4,
     "metadata": {},
     "output_type": "execute_result"
    },
    {
     "data": {
      "image/png": "[encoded data removed]",
      "text/plain": [
       "<Figure size 432x288 with 1 Axes>"
      ]
     },
     "metadata": {
      "needs_background": "light"
     },
     "output_type": "display_data"
    }
   ],
   "source": [
    "romani_po_letih.size().plot.bar()"
   ]
  },
  {
   "cell_type": "markdown",
   "metadata": {},
   "source": [
    "V knjigarni Felix so očitno na voljo le romani, mlajši od 7 let. Največ jih je iz obdobja 2015-2017, iz česar lahko sklepamo, da raje hranijo mlajše knjige. Iz leta 2018 je glede na prej omenjena leta malo knjig, kar pomeni, da knjige v knjigarno prispejo z zamudo."
   ]
  },
  {
   "cell_type": "markdown",
   "metadata": {},
   "source": [
    "## Povezave med ceno, številom strani in vezavo"
   ]
  },
  {
   "cell_type": "code",
   "execution_count": 5,
   "metadata": {},
   "outputs": [],
   "source": [
    "najvec_strani = romani.sort_values('stevilo_strani', ascending=False)[['naslov','avtor', 'stevilo_strani']][:10]\n",
    "najdrazji_romani = romani.sort_values('cena_v_evrih', ascending=False)[['naslov','avtor', 'vezava', 'cena_v_evrih']][:10]\n",
    "romani_po_vezavi = romani.groupby('vezava')"
   ]
  },
  {
   "cell_type": "code",
   "execution_count": 6,
   "metadata": {
    "scrolled": true
   },
   "outputs": [
    {
     "data": {
      "text/html": [
       "<div>\n",
       "<style scoped>\n",
       "    .dataframe tbody tr th:only-of-type {\n",
       "        vertical-align: middle;\n",
       "    }\n",
       "\n",
       "    .dataframe tbody tr th {\n",
       "        vertical-align: top;\n",
       "    }\n",
       "\n",
       "    .dataframe thead th {\n",
       "        text-align: right;\n",
       "    }\n",
       "</style>\n",
       "<table border=\"1\" class=\"dataframe\">\n",
       "  <thead>\n",
       "    <tr style=\"text-align: right;\">\n",
       "      <th></th>\n",
       "      <th>naslov</th>\n",
       "      <th>avtor</th>\n",
       "      <th>stevilo_strani</th>\n",
       "    </tr>\n",
       "  </thead>\n",
       "  <tbody>\n",
       "    <tr>\n",
       "      <th>976</th>\n",
       "      <td>Dežela poslikanih jam (trda vezava)</td>\n",
       "      <td>Jean M. Auel</td>\n",
       "      <td>384368</td>\n",
       "    </tr>\n",
       "    <tr>\n",
       "      <th>2</th>\n",
       "      <td>Petdeset odtenkov - komplet Žepnih knjig</td>\n",
       "      <td>E L James</td>\n",
       "      <td>1500</td>\n",
       "    </tr>\n",
       "    <tr>\n",
       "      <th>816</th>\n",
       "      <td>Komplet Nicholas Sparks - 4 uspe&amp;scaron;nice</td>\n",
       "      <td>Nicholas Sparks</td>\n",
       "      <td>1429</td>\n",
       "    </tr>\n",
       "    <tr>\n",
       "      <th>612</th>\n",
       "      <td>KOMPLET Sarah Maclean (3 ŽK)</td>\n",
       "      <td>Sarah MacLean</td>\n",
       "      <td>1194</td>\n",
       "    </tr>\n",
       "    <tr>\n",
       "      <th>795</th>\n",
       "      <td>Komplet 3x ŽK Loretta Chase</td>\n",
       "      <td>Loretta Chase</td>\n",
       "      <td>1027</td>\n",
       "    </tr>\n",
       "    <tr>\n",
       "      <th>615</th>\n",
       "      <td>KOMPLET Mary Balogh (3 ŽK)</td>\n",
       "      <td>Mary Balogh</td>\n",
       "      <td>1010</td>\n",
       "    </tr>\n",
       "    <tr>\n",
       "      <th>630</th>\n",
       "      <td>Prvič na robu (trda vezava)</td>\n",
       "      <td>Anna Todd</td>\n",
       "      <td>766</td>\n",
       "    </tr>\n",
       "    <tr>\n",
       "      <th>626</th>\n",
       "      <td>Prvič na robu (Žepna knjiga)</td>\n",
       "      <td>Anna Todd</td>\n",
       "      <td>766</td>\n",
       "    </tr>\n",
       "    <tr>\n",
       "      <th>812</th>\n",
       "      <td>Zdravnik (Žepna knjiga)</td>\n",
       "      <td>Noah Gordon</td>\n",
       "      <td>732</td>\n",
       "    </tr>\n",
       "    <tr>\n",
       "      <th>805</th>\n",
       "      <td>Zdravnik (Trda vezava)</td>\n",
       "      <td>Noah Gordon</td>\n",
       "      <td>732</td>\n",
       "    </tr>\n",
       "  </tbody>\n",
       "</table>\n",
       "</div>"
      ],
      "text/plain": [
       "                                           naslov            avtor  \\\n",
       "976           Dežela poslikanih jam (trda vezava)     Jean M. Auel   \n",
       "2        Petdeset odtenkov - komplet Žepnih knjig        E L James   \n",
       "816  Komplet Nicholas Sparks - 4 uspe&scaron;nice  Nicholas Sparks   \n",
       "612                  KOMPLET Sarah Maclean (3 ŽK)    Sarah MacLean   \n",
       "795                   Komplet 3x ŽK Loretta Chase    Loretta Chase   \n",
       "615                    KOMPLET Mary Balogh (3 ŽK)      Mary Balogh   \n",
       "630                   Prvič na robu (trda vezava)        Anna Todd   \n",
       "626                  Prvič na robu (Žepna knjiga)        Anna Todd   \n",
       "812                       Zdravnik (Žepna knjiga)      Noah Gordon   \n",
       "805                        Zdravnik (Trda vezava)      Noah Gordon   \n",
       "\n",
       "     stevilo_strani  \n",
       "976          384368  \n",
       "2              1500  \n",
       "816            1429  \n",
       "612            1194  \n",
       "795            1027  \n",
       "615            1010  \n",
       "630             766  \n",
       "626             766  \n",
       "812             732  \n",
       "805             732  "
      ]
     },
     "execution_count": 6,
     "metadata": {},
     "output_type": "execute_result"
    }
   ],
   "source": [
    "najvec_strani"
   ]
  },
  {
   "cell_type": "markdown",
   "metadata": {},
   "source": [
    " Pričakovano imajo največ strani kompleti romanov."
   ]
  },
  {
   "cell_type": "code",
   "execution_count": 7,
   "metadata": {},
   "outputs": [
    {
     "data": {
      "text/html": [
       "<div>\n",
       "<style scoped>\n",
       "    .dataframe tbody tr th:only-of-type {\n",
       "        vertical-align: middle;\n",
       "    }\n",
       "\n",
       "    .dataframe tbody tr th {\n",
       "        vertical-align: top;\n",
       "    }\n",
       "\n",
       "    .dataframe thead th {\n",
       "        text-align: right;\n",
       "    }\n",
       "</style>\n",
       "<table border=\"1\" class=\"dataframe\">\n",
       "  <thead>\n",
       "    <tr style=\"text-align: right;\">\n",
       "      <th></th>\n",
       "      <th>naslov</th>\n",
       "      <th>avtor</th>\n",
       "      <th>vezava</th>\n",
       "      <th>cena_v_evrih</th>\n",
       "    </tr>\n",
       "  </thead>\n",
       "  <tbody>\n",
       "    <tr>\n",
       "      <th>686</th>\n",
       "      <td>Romar (trda vezava)</td>\n",
       "      <td>Terry Hayes</td>\n",
       "      <td>trda</td>\n",
       "      <td>44.9</td>\n",
       "    </tr>\n",
       "    <tr>\n",
       "      <th>630</th>\n",
       "      <td>Prvič na robu (trda vezava)</td>\n",
       "      <td>Anna Todd</td>\n",
       "      <td>trda</td>\n",
       "      <td>42.9</td>\n",
       "    </tr>\n",
       "    <tr>\n",
       "      <th>56</th>\n",
       "      <td>ČAROVNICA (Trda vezava)</td>\n",
       "      <td>Camilla Lackberg</td>\n",
       "      <td>trda</td>\n",
       "      <td>39.9</td>\n",
       "    </tr>\n",
       "    <tr>\n",
       "      <th>598</th>\n",
       "      <td>prvič narazen (trda vezava)</td>\n",
       "      <td>Anna Todd</td>\n",
       "      <td>trda</td>\n",
       "      <td>39.9</td>\n",
       "    </tr>\n",
       "    <tr>\n",
       "      <th>639</th>\n",
       "      <td>Za vedno v tvojem objemu (trda vezava)</td>\n",
       "      <td>Kathleen Woodiwiss</td>\n",
       "      <td>trda</td>\n",
       "      <td>39.9</td>\n",
       "    </tr>\n",
       "    <tr>\n",
       "      <th>589</th>\n",
       "      <td>Napad na kraljevino Tearling (trda vezava)</td>\n",
       "      <td>Erika Johansen</td>\n",
       "      <td>trda</td>\n",
       "      <td>36.9</td>\n",
       "    </tr>\n",
       "    <tr>\n",
       "      <th>402</th>\n",
       "      <td>Čas je morilec (trda vezava)</td>\n",
       "      <td>Michel Bussi</td>\n",
       "      <td>trda</td>\n",
       "      <td>36.9</td>\n",
       "    </tr>\n",
       "    <tr>\n",
       "      <th>339</th>\n",
       "      <td>Angelski delež (trda vezava)</td>\n",
       "      <td>J. R. Ward</td>\n",
       "      <td>trda</td>\n",
       "      <td>36.9</td>\n",
       "    </tr>\n",
       "    <tr>\n",
       "      <th>322</th>\n",
       "      <td>Lepa v smrti (trda vezava)</td>\n",
       "      <td>Peter James</td>\n",
       "      <td>trda</td>\n",
       "      <td>36.9</td>\n",
       "    </tr>\n",
       "    <tr>\n",
       "      <th>238</th>\n",
       "      <td>Premalo mrtev (trda vezava)</td>\n",
       "      <td>Peter James</td>\n",
       "      <td>trda</td>\n",
       "      <td>36.9</td>\n",
       "    </tr>\n",
       "  </tbody>\n",
       "</table>\n",
       "</div>"
      ],
      "text/plain": [
       "                                         naslov               avtor vezava  \\\n",
       "686                         Romar (trda vezava)         Terry Hayes   trda   \n",
       "630                 Prvič na robu (trda vezava)           Anna Todd   trda   \n",
       "56                      ČAROVNICA (Trda vezava)    Camilla Lackberg   trda   \n",
       "598                 prvič narazen (trda vezava)           Anna Todd   trda   \n",
       "639      Za vedno v tvojem objemu (trda vezava)  Kathleen Woodiwiss   trda   \n",
       "589  Napad na kraljevino Tearling (trda vezava)      Erika Johansen   trda   \n",
       "402                Čas je morilec (trda vezava)        Michel Bussi   trda   \n",
       "339                Angelski delež (trda vezava)          J. R. Ward   trda   \n",
       "322                  Lepa v smrti (trda vezava)         Peter James   trda   \n",
       "238                 Premalo mrtev (trda vezava)         Peter James   trda   \n",
       "\n",
       "     cena_v_evrih  \n",
       "686          44.9  \n",
       "630          42.9  \n",
       "56           39.9  \n",
       "598          39.9  \n",
       "639          39.9  \n",
       "589          36.9  \n",
       "402          36.9  \n",
       "339          36.9  \n",
       "322          36.9  \n",
       "238          36.9  "
      ]
     },
     "execution_count": 7,
     "metadata": {},
     "output_type": "execute_result"
    }
   ],
   "source": [
    "najdrazji_romani"
   ]
  },
  {
   "cell_type": "markdown",
   "metadata": {},
   "source": [
    "Opazimo, da so vsi najdražji romani trde vezave, kar pa potrdi tudi spodnja preglednica, ki prikazuje povprečne cene romanov v posameznih vezavah."
   ]
  },
  {
   "cell_type": "code",
   "execution_count": 8,
   "metadata": {},
   "outputs": [
    {
     "data": {
      "text/plain": [
       "vezava\n",
       "broširana     9.67\n",
       "mehka        12.22\n",
       "neznano      20.26\n",
       "trda         24.18\n",
       "žepna         7.72\n",
       "Name: cena_v_evrih, dtype: float64"
      ]
     },
     "execution_count": 8,
     "metadata": {},
     "output_type": "execute_result"
    }
   ],
   "source": [
    "round(romani_po_vezavi.cena_v_evrih.mean(), 2)"
   ]
  },
  {
   "cell_type": "markdown",
   "metadata": {},
   "source": [
    "Preseneti nas, da se ne pojavi veliko dragih romanov med tistimi z največ stranmi, in obratno. Oglejmo si povezavo med ceno in številom strani."
   ]
  },
  {
   "cell_type": "code",
   "execution_count": 9,
   "metadata": {},
   "outputs": [
    {
     "data": {
      "text/plain": [
       "<matplotlib.axes._subplots.AxesSubplot at 0x1ccd759d4a8>"
      ]
     },
     "execution_count": 9,
     "metadata": {},
     "output_type": "execute_result"
    },
    {
     "data": {
      "image/png": "[encoded data removed]",
      "text/plain": [
       "<Figure size 576x396 with 1 Axes>"
      ]
     },
     "metadata": {
      "needs_background": "light"
     },
     "output_type": "display_data"
    }
   ],
   "source": [
    "romani[romani.stevilo_strani < 150000].plot.scatter(\n",
    "    x='cena_v_evrih', \n",
    "    y='stevilo_strani', \n",
    "    title='Razmerje med ceno in številom strani',\n",
    "    figsize=(8,5.5))"
   ]
  },
  {
   "cell_type": "markdown",
   "metadata": {},
   "source": [
    "Iz grafa je razvidno, da ni posebne povezave med številom strani in ceno romana. Sklepamo lahko, da so daljši romani manj priljubljeni in se posledično težje prodajo.\n",
    "Graf pa nam pokaže tudi, da knjigarna ni preveč domiselna pri izbiri cene. Zelo veliko knjig ima isto ceno, različnih cen pa je malo."
   ]
  },
  {
   "cell_type": "markdown",
   "metadata": {},
   "source": [
    "## Avtorji in prevajalci"
   ]
  },
  {
   "cell_type": "markdown",
   "metadata": {},
   "source": [
    "Ogledali si bomo, kateri avtor je napisal največ romanov, oziroma ali obstaja najbolj priljubljen avtor romanov v Sloveniji."
   ]
  },
  {
   "cell_type": "code",
   "execution_count": 10,
   "metadata": {},
   "outputs": [
    {
     "data": {
      "image/png": "[encoded data removed]",
      "text/plain": [
       "<Figure size 576x396 with 1 Axes>"
      ]
     },
     "metadata": {
      "needs_background": "light"
     },
     "output_type": "display_data"
    }
   ],
   "source": [
    "gostota_avtorjev = romani.groupby(['avtor']).size().sort_values()\n",
    "graf_avtorjev = gostota_avtorjev[-12:].plot.barh(title='Avtorji, ki so napisali največ romanov.', figsize=(8,5.5))"
   ]
  },
  {
   "cell_type": "code",
   "execution_count": 11,
   "metadata": {},
   "outputs": [
    {
     "data": {
      "text/plain": [
       "<matplotlib.axes._subplots.AxesSubplot at 0x1ccd77c0390>"
      ]
     },
     "execution_count": 11,
     "metadata": {},
     "output_type": "execute_result"
    },
    {
     "data": {
      "image/png": "[encoded data removed]",
      "text/plain": [
       "<Figure size 576x396 with 1 Axes>"
      ]
     },
     "metadata": {
      "needs_background": "light"
     },
     "output_type": "display_data"
    }
   ],
   "source": [
    "gostota_prevajalcev = romani.groupby(['prevajalec']).size().sort_values()\n",
    "gostota_prevajalcev[-12:].plot.barh(title='Prevajalci, ki so prevedli največ romanov.', figsize=(8,5.5))"
   ]
  },
  {
   "cell_type": "code",
   "execution_count": 12,
   "metadata": {},
   "outputs": [
    {
     "data": {
      "text/plain": [
       "<matplotlib.axes._subplots.AxesSubplot at 0x1ccd77c0ac8>"
      ]
     },
     "execution_count": 12,
     "metadata": {},
     "output_type": "execute_result"
    },
    {
     "data": {
      "image/png": "[encoded data removed]",
      "text/plain": [
       "<Figure size 576x396 with 1 Axes>"
      ]
     },
     "metadata": {
      "needs_background": "light"
     },
     "output_type": "display_data"
    }
   ],
   "source": [
    "gostota_prevajalcev_brez_neznanih = romani[romani.prevajalec != 'neznano'].groupby(['prevajalec']).size().sort_values()\n",
    "gostota_prevajalcev_brez_neznanih[-12:].plot.barh(title='Znani prevajalci, ki so prevedli največ romanov.', figsize=(8,5.5))"
   ]
  },
  {
   "cell_type": "markdown",
   "metadata": {},
   "source": [
    "Opazimo, da so tako avtorji kot prevajalci enakomerno porazdeljeni. To pomeni, da v Sloveniji nihče od avtorjev ne izstopa po priljubljenosti. Kar se tiče prevajalcev, lahko sklepamo, da je delo v založbi Učila International, d.o.o, enakomerno porazdeljeno med delavce. Bolj zanimivo pa je to, da pri večini knjig prevajalec ni znan (0 označuje prazna polja) - gre za neprevedene romane."
   ]
  },
  {
   "cell_type": "markdown",
   "metadata": {},
   "source": [
    "Oglejmo si romane, katerih prevajalec ni znan."
   ]
  },
  {
   "cell_type": "code",
   "execution_count": 13,
   "metadata": {},
   "outputs": [
    {
     "data": {
      "text/html": [
       "<div>\n",
       "<style scoped>\n",
       "    .dataframe tbody tr th:only-of-type {\n",
       "        vertical-align: middle;\n",
       "    }\n",
       "\n",
       "    .dataframe tbody tr th {\n",
       "        vertical-align: top;\n",
       "    }\n",
       "\n",
       "    .dataframe thead th {\n",
       "        text-align: right;\n",
       "    }\n",
       "</style>\n",
       "<table border=\"1\" class=\"dataframe\">\n",
       "  <thead>\n",
       "    <tr style=\"text-align: right;\">\n",
       "      <th></th>\n",
       "      <th>sifra</th>\n",
       "      <th>naslov</th>\n",
       "      <th>avtor</th>\n",
       "      <th>cena_v_evrih</th>\n",
       "      <th>stevilo_strani</th>\n",
       "      <th>dimenzije</th>\n",
       "      <th>leto_izdaje</th>\n",
       "      <th>prevajalec</th>\n",
       "      <th>vezava</th>\n",
       "      <th>zalozba</th>\n",
       "    </tr>\n",
       "  </thead>\n",
       "  <tbody>\n",
       "    <tr>\n",
       "      <th>2</th>\n",
       "      <td>11999</td>\n",
       "      <td>Petdeset odtenkov - komplet Žepnih knjig</td>\n",
       "      <td>E L James</td>\n",
       "      <td>19.99</td>\n",
       "      <td>1500</td>\n",
       "      <td>13 x 19 cm</td>\n",
       "      <td>2012</td>\n",
       "      <td>neznano</td>\n",
       "      <td>mehka</td>\n",
       "      <td>Učila International, d.o.o.</td>\n",
       "    </tr>\n",
       "    <tr>\n",
       "      <th>72</th>\n",
       "      <td>4457</td>\n",
       "      <td>STROGA TAJNOST (trda vezava)</td>\n",
       "      <td>Karen Cleveland</td>\n",
       "      <td>32.90</td>\n",
       "      <td>300</td>\n",
       "      <td>130 x 195 x 26 mm</td>\n",
       "      <td>2018</td>\n",
       "      <td>neznano</td>\n",
       "      <td>trda</td>\n",
       "      <td>Učila International, d.o.o.</td>\n",
       "    </tr>\n",
       "    <tr>\n",
       "      <th>87</th>\n",
       "      <td>4379</td>\n",
       "      <td>PRIJATELJ (trda vezava)</td>\n",
       "      <td>Joakim Zander</td>\n",
       "      <td>34.90</td>\n",
       "      <td>440</td>\n",
       "      <td>130 x 195 x 37 mm</td>\n",
       "      <td>2018</td>\n",
       "      <td>neznano</td>\n",
       "      <td>trda</td>\n",
       "      <td>Učila International, d.o.o.</td>\n",
       "    </tr>\n",
       "    <tr>\n",
       "      <th>103</th>\n",
       "      <td>4455</td>\n",
       "      <td>VOJVODA V BLE&amp;Scaron;ČEČEM OKLEPU (trda vezava)</td>\n",
       "      <td>Loretta Chase</td>\n",
       "      <td>34.90</td>\n",
       "      <td>364</td>\n",
       "      <td>130 x 195 x 31 mm</td>\n",
       "      <td>2018</td>\n",
       "      <td>neznano</td>\n",
       "      <td>trda</td>\n",
       "      <td>Učila International, d.o.o.</td>\n",
       "    </tr>\n",
       "    <tr>\n",
       "      <th>123</th>\n",
       "      <td>13591</td>\n",
       "      <td>PETDESET ODTENKOV SVOBODE (Žepna knjiga)</td>\n",
       "      <td>E L James</td>\n",
       "      <td>3.99</td>\n",
       "      <td>608</td>\n",
       "      <td>125 x 190 x 40</td>\n",
       "      <td>2017</td>\n",
       "      <td>neznano</td>\n",
       "      <td>mehka</td>\n",
       "      <td>Učila International, d.o.o.</td>\n",
       "    </tr>\n",
       "    <tr>\n",
       "      <th>...</th>\n",
       "      <td>...</td>\n",
       "      <td>...</td>\n",
       "      <td>...</td>\n",
       "      <td>...</td>\n",
       "      <td>...</td>\n",
       "      <td>...</td>\n",
       "      <td>...</td>\n",
       "      <td>...</td>\n",
       "      <td>...</td>\n",
       "      <td>...</td>\n",
       "    </tr>\n",
       "    <tr>\n",
       "      <th>525</th>\n",
       "      <td>13372</td>\n",
       "      <td>Povabilo (Žepna knjiga)</td>\n",
       "      <td>Ruth Ware</td>\n",
       "      <td>12.90</td>\n",
       "      <td>358</td>\n",
       "      <td>125 x 190 x 27 mm</td>\n",
       "      <td>2016</td>\n",
       "      <td>neznano</td>\n",
       "      <td>broširana</td>\n",
       "      <td>Učila International, d.o.o.</td>\n",
       "    </tr>\n",
       "    <tr>\n",
       "      <th>527</th>\n",
       "      <td>13355</td>\n",
       "      <td>Odre&amp;scaron;itev Callie in Kaydena (Žepna knjiga)</td>\n",
       "      <td>Jessica Sorensen</td>\n",
       "      <td>3.99</td>\n",
       "      <td>304</td>\n",
       "      <td>125 x 190 x 22 mm</td>\n",
       "      <td>2016</td>\n",
       "      <td>neznano</td>\n",
       "      <td>broširana</td>\n",
       "      <td>Učila International, d.o.o.</td>\n",
       "    </tr>\n",
       "    <tr>\n",
       "      <th>533</th>\n",
       "      <td>3814</td>\n",
       "      <td>Prelepi ženskar (trda vezava)</td>\n",
       "      <td>neznano</td>\n",
       "      <td>32.90</td>\n",
       "      <td>0</td>\n",
       "      <td>neznano</td>\n",
       "      <td>0</td>\n",
       "      <td>neznano</td>\n",
       "      <td>neznano</td>\n",
       "      <td>neznano</td>\n",
       "    </tr>\n",
       "    <tr>\n",
       "      <th>681</th>\n",
       "      <td>3641</td>\n",
       "      <td>Izdajalska roka (trda vezava)</td>\n",
       "      <td>neznano</td>\n",
       "      <td>6.00</td>\n",
       "      <td>0</td>\n",
       "      <td>neznano</td>\n",
       "      <td>0</td>\n",
       "      <td>neznano</td>\n",
       "      <td>neznano</td>\n",
       "      <td>neznano</td>\n",
       "    </tr>\n",
       "    <tr>\n",
       "      <th>976</th>\n",
       "      <td>3232</td>\n",
       "      <td>Dežela poslikanih jam (trda vezava)</td>\n",
       "      <td>Jean M. Auel</td>\n",
       "      <td>19.99</td>\n",
       "      <td>384368</td>\n",
       "      <td>16 x 24 cm</td>\n",
       "      <td>2013</td>\n",
       "      <td>neznano</td>\n",
       "      <td>trda</td>\n",
       "      <td>Učila International, d.o.o.</td>\n",
       "    </tr>\n",
       "  </tbody>\n",
       "</table>\n",
       "<p>266 rows × 10 columns</p>\n",
       "</div>"
      ],
      "text/plain": [
       "     sifra                                             naslov  \\\n",
       "2    11999           Petdeset odtenkov - komplet Žepnih knjig   \n",
       "72    4457                       STROGA TAJNOST (trda vezava)   \n",
       "87    4379                            PRIJATELJ (trda vezava)   \n",
       "103   4455    VOJVODA V BLE&Scaron;ČEČEM OKLEPU (trda vezava)   \n",
       "123  13591           PETDESET ODTENKOV SVOBODE (Žepna knjiga)   \n",
       "..     ...                                                ...   \n",
       "525  13372                            Povabilo (Žepna knjiga)   \n",
       "527  13355  Odre&scaron;itev Callie in Kaydena (Žepna knjiga)   \n",
       "533   3814                      Prelepi ženskar (trda vezava)   \n",
       "681   3641                      Izdajalska roka (trda vezava)   \n",
       "976   3232                Dežela poslikanih jam (trda vezava)   \n",
       "\n",
       "                avtor  cena_v_evrih  stevilo_strani          dimenzije  \\\n",
       "2           E L James         19.99            1500         13 x 19 cm   \n",
       "72    Karen Cleveland         32.90             300  130 x 195 x 26 mm   \n",
       "87      Joakim Zander         34.90             440  130 x 195 x 37 mm   \n",
       "103     Loretta Chase         34.90             364  130 x 195 x 31 mm   \n",
       "123         E L James          3.99             608     125 x 190 x 40   \n",
       "..                ...           ...             ...                ...   \n",
       "525         Ruth Ware         12.90             358  125 x 190 x 27 mm   \n",
       "527  Jessica Sorensen          3.99             304  125 x 190 x 22 mm   \n",
       "533           neznano         32.90               0            neznano   \n",
       "681           neznano          6.00               0            neznano   \n",
       "976      Jean M. Auel         19.99          384368         16 x 24 cm   \n",
       "\n",
       "     leto_izdaje prevajalec     vezava                      zalozba  \n",
       "2           2012    neznano      mehka  Učila International, d.o.o.  \n",
       "72          2018    neznano       trda  Učila International, d.o.o.  \n",
       "87          2018    neznano       trda  Učila International, d.o.o.  \n",
       "103         2018    neznano       trda  Učila International, d.o.o.  \n",
       "123         2017    neznano      mehka  Učila International, d.o.o.  \n",
       "..           ...        ...        ...                          ...  \n",
       "525         2016    neznano  broširana  Učila International, d.o.o.  \n",
       "527         2016    neznano  broširana  Učila International, d.o.o.  \n",
       "533            0    neznano    neznano                      neznano  \n",
       "681            0    neznano    neznano                      neznano  \n",
       "976         2013    neznano       trda  Učila International, d.o.o.  \n",
       "\n",
       "[266 rows x 10 columns]"
      ]
     },
     "execution_count": 13,
     "metadata": {},
     "output_type": "execute_result"
    }
   ],
   "source": [
    "romani[romani.prevajalec == 'neznano']"
   ]
  },
  {
   "cell_type": "markdown",
   "metadata": {},
   "source": [
    "Velika večina avtorjev je tujcev, kar pomeni, da Slovenci raje beremo tuje romane v izvirniku, kot pa domače. To ni presenetljivo, ker je le težko najti sodobnega slovenskega pisatelja romanov."
   ]
  }
 ],
 "metadata": {
  "kernelspec": {
   "display_name": "Python 3",
   "language": "python",
   "name": "python3"
  },
  "language_info": {
   "codemirror_mode": {
    "name": "ipython",
    "version": 3
   },
   "file_extension": ".py",
   "mimetype": "text/x-python",
   "name": "python",
   "nbconvert_exporter": "python",
   "pygments_lexer": "ipython3",
   "version": "3.7.1rc1"
  }
 },
 "nbformat": 4,
 "nbformat_minor": 2
}
